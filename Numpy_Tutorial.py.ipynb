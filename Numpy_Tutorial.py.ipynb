{
 "cells": [
  {
   "cell_type": "markdown",
   "metadata": {},
   "source": [
    "# Numpy - Numerical Python"
   ]
  },
  {
   "cell_type": "markdown",
   "metadata": {},
   "source": [
    "#### Import numpy package"
   ]
  },
  {
   "cell_type": "code",
   "execution_count": 1,
   "metadata": {},
   "outputs": [],
   "source": [
    " import numpy as np"
   ]
  },
  {
   "cell_type": "markdown",
   "metadata": {},
   "source": [
    "#### Create an array"
   ]
  },
  {
   "cell_type": "code",
   "execution_count": 2,
   "metadata": {},
   "outputs": [
    {
     "name": "stdout",
     "output_type": "stream",
     "text": [
      "[[ 2  3  4]\n",
      " [ 5  6  8]\n",
      " [-3 -9  0]]\n"
     ]
    }
   ],
   "source": [
    "## numpy.array(object)\n",
    "x = np.array([2, 3, 4,5])\n",
    "\n",
    "a = np.array([[2,3,4], [5,6,8], [-3,-9,0]])\n",
    "print(a)"
   ]
  },
  {
   "cell_type": "markdown",
   "metadata": {},
   "source": [
    "#### Check type of  'x'"
   ]
  },
  {
   "cell_type": "code",
   "execution_count": 3,
   "metadata": {},
   "outputs": [
    {
     "data": {
      "text/plain": [
       "numpy.ndarray"
      ]
     },
     "execution_count": 3,
     "metadata": {},
     "output_type": "execute_result"
    }
   ],
   "source": [
    "type(x)"
   ]
  },
  {
   "cell_type": "code",
   "execution_count": 4,
   "metadata": {},
   "outputs": [
    {
     "data": {
      "text/plain": [
       "(3, 3)"
      ]
     },
     "execution_count": 4,
     "metadata": {},
     "output_type": "execute_result"
    }
   ],
   "source": [
    "##Find shape of an array\n",
    "a.shape"
   ]
  },
  {
   "cell_type": "markdown",
   "metadata": {},
   "source": [
    "#### Numpy can handle different categorical entities"
   ]
  },
  {
   "cell_type": "code",
   "execution_count": 5,
   "metadata": {},
   "outputs": [
    {
     "name": "stdout",
     "output_type": "stream",
     "text": [
      "['2' '69' 'A' '4']\n"
     ]
    }
   ],
   "source": [
    "x = np.array([2,69,'A',4])\n",
    "print(x)"
   ]
  },
  {
   "cell_type": "markdown",
   "metadata": {},
   "source": [
    "As per output, numpy will treat all elements with same datatype i.e string."
   ]
  },
  {
   "cell_type": "markdown",
   "metadata": {},
   "source": [
    "### Generate arrays using linspace() \n",
    "\n",
    "Returns equally spaced numbers within the given range based on the sample number.\n",
    "\n",
    "Syntax: numpy.linspace(start, stop, no_of_samples, endpoint, dtype, return_increment)"
   ]
  },
  {
   "cell_type": "code",
   "execution_count": 6,
   "metadata": {},
   "outputs": [
    {
     "data": {
      "text/plain": [
       "(array([77.        , 78.11111111, 79.22222222, 80.33333333, 81.44444444,\n",
       "        82.55555556, 83.66666667, 84.77777778, 85.88888889, 87.        ]),\n",
       " 1.1111111111111112)"
      ]
     },
     "execution_count": 6,
     "metadata": {},
     "output_type": "execute_result"
    }
   ],
   "source": [
    "##Endpoint inlude when it is True vice versa\n",
    "np.linspace(start =77, stop=87, num =10, endpoint =True ,retstep=True)"
   ]
  },
  {
   "cell_type": "markdown",
   "metadata": {},
   "source": [
    "### Generate arrays using arange()\n",
    "\n",
    "Returns equally spaced numbers with in the given range based on step size.\n",
    "\n",
    "Syntax: numpy.arange(start, stop, step)"
   ]
  },
  {
   "cell_type": "code",
   "execution_count": 7,
   "metadata": {},
   "outputs": [
    {
     "data": {
      "text/plain": [
       "array([ 69,  76,  83,  90,  97, 104, 111, 118, 125, 132, 139, 146, 153,\n",
       "       160, 167])"
      ]
     },
     "execution_count": 7,
     "metadata": {},
     "output_type": "execute_result"
    }
   ],
   "source": [
    "np.arange(start =69, stop=169, step=7)"
   ]
  },
  {
   "cell_type": "markdown",
   "metadata": {},
   "source": [
    "### Generate arrays using ones()\n",
    "\n",
    "Returns an array of given sahpe and type filled with ones.\n",
    "\n",
    "Syntax: numpy.ones(shape, dtype(default: float))"
   ]
  },
  {
   "cell_type": "code",
   "execution_count": 8,
   "metadata": {},
   "outputs": [
    {
     "data": {
      "text/plain": [
       "array([[1., 1., 1., 1.],\n",
       "       [1., 1., 1., 1.],\n",
       "       [1., 1., 1., 1.]])"
      ]
     },
     "execution_count": 8,
     "metadata": {},
     "output_type": "execute_result"
    }
   ],
   "source": [
    "np.ones((3,4))"
   ]
  },
  {
   "cell_type": "code",
   "execution_count": 9,
   "metadata": {},
   "outputs": [
    {
     "data": {
      "text/plain": [
       "array([[1, 1, 1, 1],\n",
       "       [1, 1, 1, 1],\n",
       "       [1, 1, 1, 1],\n",
       "       [1, 1, 1, 1]])"
      ]
     },
     "execution_count": 9,
     "metadata": {},
     "output_type": "execute_result"
    }
   ],
   "source": [
    "np.ones((4,4), int)"
   ]
  },
  {
   "cell_type": "markdown",
   "metadata": {},
   "source": [
    "### Generate arrays using zeros()\n",
    "\n",
    "Returns an array of given shape and type filled with zeros.\n",
    "\n",
    "Syntax: numpy.zeros(shape, dtype(default: float))"
   ]
  },
  {
   "cell_type": "code",
   "execution_count": 10,
   "metadata": {},
   "outputs": [
    {
     "name": "stdout",
     "output_type": "stream",
     "text": [
      "[[0. 0. 0. 0. 0.]\n",
      " [0. 0. 0. 0. 0.]\n",
      " [0. 0. 0. 0. 0.]]\n"
     ]
    }
   ],
   "source": [
    "print(np.zeros((3,5)))"
   ]
  },
  {
   "cell_type": "markdown",
   "metadata": {},
   "source": [
    "### Generate arrays using random.rand()\n",
    "\n",
    "Returns an array of given shape filled with random values\n",
    "\n",
    "Syntax: numpy.random.rand(shape)"
   ]
  },
  {
   "cell_type": "code",
   "execution_count": 11,
   "metadata": {},
   "outputs": [
    {
     "name": "stdout",
     "output_type": "stream",
     "text": [
      "[0.59513502 0.83135376 0.81648873 0.92644382 0.70288422 0.3977443\n",
      " 0.37674393]\n"
     ]
    }
   ],
   "source": [
    "print(np.random.rand(7))"
   ]
  },
  {
   "cell_type": "code",
   "execution_count": 12,
   "metadata": {},
   "outputs": [
    {
     "data": {
      "text/plain": [
       "array([[0.14261569, 0.57269537, 0.68307546],\n",
       "       [0.48233772, 0.65695167, 0.68109771],\n",
       "       [0.12296282, 0.2593867 , 0.75519414]])"
      ]
     },
     "execution_count": 12,
     "metadata": {},
     "output_type": "execute_result"
    }
   ],
   "source": [
    "np.random.rand(3,3)"
   ]
  },
  {
   "cell_type": "code",
   "execution_count": 13,
   "metadata": {},
   "outputs": [
    {
     "data": {
      "text/plain": [
       "array([[6, 4, 3],\n",
       "       [6, 6, 2],\n",
       "       [6, 1, 8]])"
      ]
     },
     "execution_count": 13,
     "metadata": {},
     "output_type": "execute_result"
    }
   ],
   "source": [
    "##Syntax: numpy.random.randint(start, stop, shape)\n",
    "np.random.randint(1,10,(3,3))"
   ]
  },
  {
   "cell_type": "markdown",
   "metadata": {},
   "source": [
    "### Generate arrays using logspace\n",
    "\n",
    "Returns equally spaced numbers based on log space\n",
    "\n",
    "Syntax: numpy.logspace(start, stop, num_of_samples(deafult =50) , endpoint, base(default=10.0) , dtype)"
   ]
  },
  {
   "cell_type": "code",
   "execution_count": 14,
   "metadata": {},
   "outputs": [
    {
     "data": {
      "text/plain": [
       "array([1.e+04, 1.e+13, 1.e+22, 1.e+31, 1.e+40])"
      ]
     },
     "execution_count": 14,
     "metadata": {},
     "output_type": "execute_result"
    }
   ],
   "source": [
    "np.logspace(4,40, num=5, endpoint =True, base=10.0)"
   ]
  },
  {
   "cell_type": "markdown",
   "metadata": {},
   "source": [
    "### Numpy is faster than python list\n",
    "\n",
    "'timeit' module can be used to measure the execution time for snippets of code."
   ]
  },
  {
   "cell_type": "code",
   "execution_count": 15,
   "metadata": {},
   "outputs": [],
   "source": [
    "##Creating a list\n",
    "x=range(1000)"
   ]
  },
  {
   "cell_type": "code",
   "execution_count": 16,
   "metadata": {},
   "outputs": [
    {
     "name": "stdout",
     "output_type": "stream",
     "text": [
      "118 µs ± 4.8 µs per loop (mean ± std. dev. of 7 runs, 10000 loops each)\n"
     ]
    }
   ],
   "source": [
    "##Calculate runtime speed of an python list\n",
    "timeit sum(x)"
   ]
  },
  {
   "cell_type": "code",
   "execution_count": 21,
   "metadata": {},
   "outputs": [],
   "source": [
    "##Creating a numpy array\n",
    "y = np.array(x)"
   ]
  },
  {
   "cell_type": "code",
   "execution_count": 22,
   "metadata": {},
   "outputs": [
    {
     "name": "stdout",
     "output_type": "stream",
     "text": [
      "32.3 µs ± 735 ns per loop (mean ± std. dev. of 7 runs, 10000 loops each)\n"
     ]
    }
   ],
   "source": [
    "timeit np.sum(y)"
   ]
  },
  {
   "cell_type": "markdown",
   "metadata": {},
   "source": [
    "### Numpy use less memory at  runtime\n",
    "\n",
    "Compare list and numpy memory used in runtime"
   ]
  },
  {
   "cell_type": "code",
   "execution_count": 23,
   "metadata": {},
   "outputs": [
    {
     "data": {
      "text/plain": [
       "14000"
      ]
     },
     "execution_count": 23,
     "metadata": {},
     "output_type": "execute_result"
    }
   ],
   "source": [
    "## Multiply the size of an individual element with the number of elements in list \n",
    "import sys\n",
    "sys.getsizeof(1)*len(x)"
   ]
  },
  {
   "cell_type": "code",
   "execution_count": 24,
   "metadata": {},
   "outputs": [
    {
     "data": {
      "text/plain": [
       "4000"
      ]
     },
     "execution_count": 24,
     "metadata": {},
     "output_type": "execute_result"
    }
   ],
   "source": [
    "## Size of an array found by multiplying the size of an individual element with no_of elements in array.\n",
    "y.itemsize * y.size"
   ]
  },
  {
   "cell_type": "markdown",
   "metadata": {},
   "source": [
    "### Reshape an array\n",
    "\n",
    "Recasts an array to new shape without changing it's data"
   ]
  },
  {
   "cell_type": "code",
   "execution_count": 25,
   "metadata": {},
   "outputs": [
    {
     "name": "stdout",
     "output_type": "stream",
     "text": [
      "[[ 1  2  3]\n",
      " [ 4  5  6]\n",
      " [ 7  8  9]\n",
      " [10 11 12]]\n"
     ]
    }
   ],
   "source": [
    "grid = np.arange(start=1, stop=13).reshape(4,3)\n",
    "print(grid)"
   ]
  },
  {
   "cell_type": "code",
   "execution_count": 26,
   "metadata": {},
   "outputs": [
    {
     "data": {
      "text/plain": [
       "(4, 3)"
      ]
     },
     "execution_count": 26,
     "metadata": {},
     "output_type": "execute_result"
    }
   ],
   "source": [
    "grid.shape"
   ]
  },
  {
   "cell_type": "markdown",
   "metadata": {},
   "source": [
    "### Operations on numpy\n",
    "\n",
    "Arthimetic operations like add, subtract & divide etc can be performed efficiently through numpy."
   ]
  },
  {
   "cell_type": "code",
   "execution_count": 27,
   "metadata": {},
   "outputs": [
    {
     "name": "stdout",
     "output_type": "stream",
     "text": [
      "[[     9      0     -3]\n",
      " [   -69    343 -31323]\n",
      " [    21   -423    323]]\n",
      "\n",
      "[[11 12 13]\n",
      " [14 15 16]\n",
      " [17 18 19]]\n"
     ]
    }
   ],
   "source": [
    "## Numpy addition\n",
    "array_1 = np.array([[9,0,-3], [-69,343,-31323], [21,-423,323]])\n",
    "array_2 = np.arange(start =11, stop=20).reshape(3,3)\n",
    "\n",
    "print(array_1) \n",
    "print()\n",
    "print(array_2)"
   ]
  },
  {
   "cell_type": "code",
   "execution_count": 28,
   "metadata": {},
   "outputs": [
    {
     "name": "stdout",
     "output_type": "stream",
     "text": [
      "[[    20     12     10]\n",
      " [   -55    358 -31307]\n",
      " [    38   -405    342]]\n"
     ]
    }
   ],
   "source": [
    "print(np.add(array_1, array_2))"
   ]
  },
  {
   "cell_type": "code",
   "execution_count": 29,
   "metadata": {},
   "outputs": [
    {
     "name": "stdout",
     "output_type": "stream",
     "text": [
      "[[     99       0     -39]\n",
      " [   -966    5145 -501168]\n",
      " [    357   -7614    6137]]\n"
     ]
    }
   ],
   "source": [
    "##Numpy Multiplication\n",
    "\n",
    "print(np.multiply(array_1, array_2))"
   ]
  },
  {
   "cell_type": "code",
   "execution_count": 30,
   "metadata": {},
   "outputs": [],
   "source": [
    "arr_3 =np.array([[19,16], [120,189]])\n",
    "arr_4 =np.arange(start=2, stop=6).reshape(2,2)"
   ]
  },
  {
   "cell_type": "code",
   "execution_count": 31,
   "metadata": {},
   "outputs": [
    {
     "data": {
      "text/plain": [
       "array([[1, 1],\n",
       "       [0, 4]], dtype=int32)"
      ]
     },
     "execution_count": 31,
     "metadata": {},
     "output_type": "execute_result"
    }
   ],
   "source": [
    "##Numpy remainder :- Return element-wise remainder of division\n",
    "np.remainder(arr_3, arr_4)"
   ]
  },
  {
   "cell_type": "markdown",
   "metadata": {},
   "source": [
    "### Accessing components of an array\n",
    "\n",
    "Components of an array can be accessed by using index number"
   ]
  },
  {
   "cell_type": "code",
   "execution_count": 32,
   "metadata": {},
   "outputs": [
    {
     "name": "stdout",
     "output_type": "stream",
     "text": [
      "[[     9      0     -3]\n",
      " [   -69    343 -31323]\n",
      " [    21   -423    323]]\n",
      "323\n"
     ]
    }
   ],
   "source": [
    "##Acess element having index (2,3) from array_1 and index starts from 0.\n",
    "print(array_1)\n",
    "print(array_1[2,2])"
   ]
  },
  {
   "cell_type": "code",
   "execution_count": 33,
   "metadata": {},
   "outputs": [
    {
     "data": {
      "text/plain": [
       "array([  9, -69,  21])"
      ]
     },
     "execution_count": 33,
     "metadata": {},
     "output_type": "execute_result"
    }
   ],
   "source": [
    "##Access elements of first row of an array\n",
    "array_1[0,:]\n",
    "\n",
    "##Access elements of first column of an array\n",
    "array_1[:,0]"
   ]
  },
  {
   "cell_type": "markdown",
   "metadata": {},
   "source": [
    "#### Modification & Extraction of arrays"
   ]
  },
  {
   "cell_type": "code",
   "execution_count": 34,
   "metadata": {},
   "outputs": [
    {
     "name": "stdout",
     "output_type": "stream",
     "text": [
      "[[     9      0     -3]\n",
      " [   -69    343 -31323]\n",
      " [    21   -423    323]]\n",
      "\n",
      "[[  9   0]\n",
      " [-69 343]]\n"
     ]
    }
   ],
   "source": [
    "##Subset 2X2 array of first rows & columns from array_1\n",
    "array_1_sub = array_1[:2, :2]\n",
    "print(array_1)\n",
    "print()\n",
    "print(array_1_sub)"
   ]
  },
  {
   "cell_type": "code",
   "execution_count": 35,
   "metadata": {},
   "outputs": [
    {
     "name": "stdout",
     "output_type": "stream",
     "text": [
      "[[110   0]\n",
      " [-69 343]]\n"
     ]
    }
   ],
   "source": [
    "##Change value of an element in array_subset through its index\n",
    "array_1_sub[0,0]=110\n",
    "\n",
    "print(array_1_sub)"
   ]
  },
  {
   "cell_type": "code",
   "execution_count": 36,
   "metadata": {},
   "outputs": [
    {
     "name": "stdout",
     "output_type": "stream",
     "text": [
      "[[   110      0     -3]\n",
      " [   -69    343 -31323]\n",
      " [    21   -423    323]]\n"
     ]
    }
   ],
   "source": [
    "##Modifying value through subset array will change original array too.\n",
    "print(array_1)"
   ]
  },
  {
   "cell_type": "markdown",
   "metadata": {},
   "source": [
    "#### Transpose of an array"
   ]
  },
  {
   "cell_type": "code",
   "execution_count": 37,
   "metadata": {},
   "outputs": [
    {
     "data": {
      "text/plain": [
       "array([[   110,    -69,     21],\n",
       "       [     0,    343,   -423],\n",
       "       [    -3, -31323,    323]])"
      ]
     },
     "execution_count": 37,
     "metadata": {},
     "output_type": "execute_result"
    }
   ],
   "source": [
    "np.transpose(array_1)"
   ]
  },
  {
   "cell_type": "markdown",
   "metadata": {},
   "source": [
    "#### Adding new row and column in array_1"
   ]
  },
  {
   "cell_type": "code",
   "execution_count": 38,
   "metadata": {},
   "outputs": [
    {
     "data": {
      "text/plain": [
       "array([[   110,      0,     -3],\n",
       "       [   -69,    343, -31323],\n",
       "       [    21,   -423,    323],\n",
       "       [     9,    289,     -7]])"
      ]
     },
     "execution_count": 38,
     "metadata": {},
     "output_type": "execute_result"
    }
   ],
   "source": [
    "## Modifying array using append() & axis = 0 for row or 1 for col  \n",
    "\n",
    "np.append(array_1, [[9,289,-7]], axis=0)"
   ]
  },
  {
   "cell_type": "code",
   "execution_count": 39,
   "metadata": {},
   "outputs": [
    {
     "name": "stdout",
     "output_type": "stream",
     "text": [
      "[[2]\n",
      " [3]\n",
      " [5]]\n"
     ]
    }
   ],
   "source": [
    "new_col =np.array([2,3,5]).reshape(3,1)\n",
    "print(new_col)"
   ]
  },
  {
   "cell_type": "code",
   "execution_count": 40,
   "metadata": {},
   "outputs": [
    {
     "data": {
      "text/plain": [
       "array([[   110,      0,     -3,      2],\n",
       "       [   -69,    343, -31323,      3],\n",
       "       [    21,   -423,    323,      5]])"
      ]
     },
     "execution_count": 40,
     "metadata": {},
     "output_type": "execute_result"
    }
   ],
   "source": [
    "arr_col =np.append(array_1, new_col, axis=1)\n",
    "arr_col"
   ]
  },
  {
   "cell_type": "code",
   "execution_count": 41,
   "metadata": {},
   "outputs": [
    {
     "name": "stdout",
     "output_type": "stream",
     "text": [
      "[[   110      0     -3]\n",
      " [   -69    343 -31323]\n",
      " [    21   -423    323]]\n",
      "\n",
      "[[   110      0     -3]\n",
      " [     1      2      3]\n",
      " [   -69    343 -31323]\n",
      " [    21   -423    323]]\n"
     ]
    }
   ],
   "source": [
    "## Insert values at a given position and axis in an array\n",
    "## numpy.insert(array, index_position, values, axis_row_ncol)\n",
    "\n",
    "arr_ins =np.insert(array_1, 1, [1,2,3], axis=0)\n",
    "print(array_1)\n",
    "print()\n",
    "print(arr_ins)"
   ]
  },
  {
   "cell_type": "code",
   "execution_count": 42,
   "metadata": {},
   "outputs": [
    {
     "name": "stdout",
     "output_type": "stream",
     "text": [
      "[[   110      0     -3]\n",
      " [   -69    343 -31323]\n",
      " [    21   -423    323]]\n",
      "\n",
      "[[   110      0     -3]\n",
      " [   -69    343 -31323]]\n"
     ]
    }
   ],
   "source": [
    "##Delete an row or column at given position in an array\n",
    "\n",
    "arr_del = np.delete(array_1, 2, axis=0)\n",
    "print(array_1)\n",
    "print()\n",
    "print(arr_del)"
   ]
  },
  {
   "cell_type": "markdown",
   "metadata": {},
   "source": [
    "#### To be continued...."
   ]
  }
 ],
 "metadata": {
  "kernelspec": {
   "display_name": "Python 3",
   "language": "python",
   "name": "python3"
  },
  "language_info": {
   "codemirror_mode": {
    "name": "ipython",
    "version": 3
   },
   "file_extension": ".py",
   "mimetype": "text/x-python",
   "name": "python",
   "nbconvert_exporter": "python",
   "pygments_lexer": "ipython3",
   "version": "3.7.2"
  }
 },
 "nbformat": 4,
 "nbformat_minor": 2
}

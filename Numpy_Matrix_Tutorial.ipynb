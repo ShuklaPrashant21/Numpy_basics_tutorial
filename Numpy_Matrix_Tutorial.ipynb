{
 "cells": [
  {
   "cell_type": "markdown",
   "metadata": {},
   "source": [
    "# Matrix Implementation in NumPy\n",
    "\n",
    "#### It includes following operations:\n",
    "\n",
    "#### 1) Matrix Properties\n",
    "\n",
    "#### 2) Matrix Modification\n",
    "\n",
    "#### 3) Arthimetic Operations on matrix\n",
    "\n",
    "#### 4) Concepts of Linear Algebra\n",
    "   \n",
    "   a) Determinant of matrix\n",
    "   \n",
    "   b) Rank of matrix\n",
    "   \n",
    "   c) Inverse of a matrix\n",
    "   \n",
    "   d) Solution of linear equations"
   ]
  },
  {
   "cell_type": "markdown",
   "metadata": {},
   "source": [
    "### Create a matrix"
   ]
  },
  {
   "cell_type": "code",
   "execution_count": 1,
   "metadata": {},
   "outputs": [],
   "source": [
    "import numpy as np"
   ]
  },
  {
   "cell_type": "code",
   "execution_count": 2,
   "metadata": {},
   "outputs": [
    {
     "name": "stdout",
     "output_type": "stream",
     "text": [
      "[[ 2  3  6]\n",
      " [ 4  9 12]\n",
      " [18 81 48]]\n"
     ]
    }
   ],
   "source": [
    "matrix_1 =np.matrix(\"2,3,6;4,9,12;18,81,48\")\n",
    "print(matrix_1)"
   ]
  },
  {
   "cell_type": "code",
   "execution_count": 3,
   "metadata": {},
   "outputs": [
    {
     "data": {
      "text/plain": [
       "numpy.matrixlib.defmatrix.matrix"
      ]
     },
     "execution_count": 3,
     "metadata": {},
     "output_type": "execute_result"
    }
   ],
   "source": [
    "##Check datatype\n",
    "type(matrix_1)"
   ]
  },
  {
   "cell_type": "markdown",
   "metadata": {},
   "source": [
    "### Matrix Properties"
   ]
  },
  {
   "cell_type": "code",
   "execution_count": 4,
   "metadata": {},
   "outputs": [
    {
     "data": {
      "text/plain": [
       "(3, 3)"
      ]
     },
     "execution_count": 4,
     "metadata": {},
     "output_type": "execute_result"
    }
   ],
   "source": [
    "## Check shape of a matrix\n",
    "matrix_1.shape"
   ]
  },
  {
   "cell_type": "code",
   "execution_count": 5,
   "metadata": {},
   "outputs": [
    {
     "data": {
      "text/plain": [
       "9"
      ]
     },
     "execution_count": 5,
     "metadata": {},
     "output_type": "execute_result"
    }
   ],
   "source": [
    "## Check number of elements in a matrix\n",
    "matrix_1.size"
   ]
  },
  {
   "cell_type": "code",
   "execution_count": 6,
   "metadata": {},
   "outputs": [
    {
     "data": {
      "text/plain": [
       "matrix([[2, 3, 6]])"
      ]
     },
     "execution_count": 6,
     "metadata": {},
     "output_type": "execute_result"
    }
   ],
   "source": [
    "##Access row and colummns of a matrix[row,column]\n",
    "matrix_1[0, :]"
   ]
  },
  {
   "cell_type": "code",
   "execution_count": 7,
   "metadata": {},
   "outputs": [
    {
     "data": {
      "text/plain": [
       "9"
      ]
     },
     "execution_count": 7,
     "metadata": {},
     "output_type": "execute_result"
    }
   ],
   "source": [
    "## Access particular element from its index\n",
    "matrix_1[1,1]"
   ]
  },
  {
   "cell_type": "code",
   "execution_count": 8,
   "metadata": {},
   "outputs": [
    {
     "data": {
      "text/plain": [
       "matrix([[4, 9]])"
      ]
     },
     "execution_count": 8,
     "metadata": {},
     "output_type": "execute_result"
    }
   ],
   "source": [
    "matrix_1[1,0:2]"
   ]
  },
  {
   "cell_type": "code",
   "execution_count": 9,
   "metadata": {},
   "outputs": [
    {
     "name": "stdout",
     "output_type": "stream",
     "text": [
      "[[ 2  3  6]\n",
      " [ 4  9 12]\n",
      " [18 81 48]]\n",
      "\n",
      "Transpose of a matrix is :- \n",
      " [[ 2  4 18]\n",
      " [ 3  9 81]\n",
      " [ 6 12 48]]\n"
     ]
    }
   ],
   "source": [
    "##Transpose of a matrix\n",
    "print(matrix_1)\n",
    "print()\n",
    "print('Transpose of a matrix is :- \\n', matrix_1.T)"
   ]
  },
  {
   "cell_type": "markdown",
   "metadata": {},
   "source": [
    "### Matrix modification"
   ]
  },
  {
   "cell_type": "code",
   "execution_count": 10,
   "metadata": {},
   "outputs": [
    {
     "name": "stdout",
     "output_type": "stream",
     "text": [
      "[[ 1  2  3]\n",
      " [ 2  3  6]\n",
      " [ 4  9 12]\n",
      " [18 81 48]]\n"
     ]
    }
   ],
   "source": [
    "## Add new column in a matrix using insert()\n",
    "\n",
    "col_new = np.matrix(\"1,2,3\")\n",
    "mat_ins = np.insert(matrix_1, 0,col_new, axis =1)\n",
    "\n",
    "## Add new row in a matrix using insert()\n",
    "mat_ins = np.insert(matrix_1, 0,col_new, axis =0)\n",
    "\n",
    "print(mat_ins)"
   ]
  },
  {
   "cell_type": "markdown",
   "metadata": {},
   "source": [
    "### Arthimetic Operations on matrix"
   ]
  },
  {
   "cell_type": "code",
   "execution_count": 11,
   "metadata": {},
   "outputs": [
    {
     "name": "stdout",
     "output_type": "stream",
     "text": [
      "[[  2   4   6]\n",
      " [  9  12  21]\n",
      " [ 18  46 -34]]\n",
      "\n",
      "[[  3  -4   9]\n",
      " [  0  11  13]\n",
      " [-18  16  17]]\n"
     ]
    }
   ],
   "source": [
    "## Define two matrix\n",
    "mat_1 = np.matrix(\"2,4,6; 9,12,21; 18,46,-34\")\n",
    "mat_2 = np.matrix(\"3,-4,9; 0,11,13; -18,16,17\")\n",
    "\n",
    "print(mat_1)\n",
    "print()\n",
    "print(mat_2)"
   ]
  },
  {
   "cell_type": "code",
   "execution_count": 12,
   "metadata": {},
   "outputs": [
    {
     "data": {
      "text/plain": [
       "matrix([[  5,   0,  15],\n",
       "        [  9,  23,  34],\n",
       "        [  0,  62, -17]])"
      ]
     },
     "execution_count": 12,
     "metadata": {},
     "output_type": "execute_result"
    }
   ],
   "source": [
    "## Matrix Addition\n",
    "np.add(mat_1, mat_2)"
   ]
  },
  {
   "cell_type": "code",
   "execution_count": 13,
   "metadata": {},
   "outputs": [
    {
     "data": {
      "text/plain": [
       "matrix([[ -1,   8,  -3],\n",
       "        [  9,   1,   8],\n",
       "        [ 36,  30, -51]])"
      ]
     },
     "execution_count": 13,
     "metadata": {},
     "output_type": "execute_result"
    }
   ],
   "source": [
    "## Matrix Subtraction\n",
    "np.subtract(mat_1, mat_2)"
   ]
  },
  {
   "cell_type": "code",
   "execution_count": 14,
   "metadata": {},
   "outputs": [
    {
     "data": {
      "text/plain": [
       "matrix([[-102,  132,  172],\n",
       "        [-351,  432,  594],\n",
       "        [ 666, -110,  182]])"
      ]
     },
     "execution_count": 14,
     "metadata": {},
     "output_type": "execute_result"
    }
   ],
   "source": [
    "## Matrix Multiplication\n",
    "np.dot(mat_1, mat_2)"
   ]
  },
  {
   "cell_type": "code",
   "execution_count": 15,
   "metadata": {},
   "outputs": [
    {
     "data": {
      "text/plain": [
       "matrix([[   6,  -16,   54],\n",
       "        [   0,  132,  273],\n",
       "        [-324,  736, -578]])"
      ]
     },
     "execution_count": 15,
     "metadata": {},
     "output_type": "execute_result"
    }
   ],
   "source": [
    "## Elementwise Multiplication\n",
    "np.multiply(mat_1, mat_2)"
   ]
  },
  {
   "cell_type": "code",
   "execution_count": 16,
   "metadata": {},
   "outputs": [
    {
     "data": {
      "text/plain": [
       "matrix([[ 1.5       , -1.        ,  1.5       ],\n",
       "        [ 0.        ,  0.91666667,  0.61904762],\n",
       "        [-1.        ,  0.34782609, -0.5       ]])"
      ]
     },
     "execution_count": 16,
     "metadata": {},
     "output_type": "execute_result"
    }
   ],
   "source": [
    "## Matrix Division\n",
    "np.divide(mat_2, mat_1)"
   ]
  },
  {
   "cell_type": "markdown",
   "metadata": {},
   "source": [
    "### Concepts of Linear Algebra"
   ]
  },
  {
   "cell_type": "code",
   "execution_count": 17,
   "metadata": {},
   "outputs": [
    {
     "data": {
      "text/plain": [
       "1176.0"
      ]
     },
     "execution_count": 17,
     "metadata": {},
     "output_type": "execute_result"
    }
   ],
   "source": [
    "## Determinant of matrix\n",
    "\n",
    "np.linalg.det(mat_1)"
   ]
  },
  {
   "cell_type": "code",
   "execution_count": 18,
   "metadata": {},
   "outputs": [
    {
     "data": {
      "text/plain": [
       "3"
      ]
     },
     "execution_count": 18,
     "metadata": {},
     "output_type": "execute_result"
    }
   ],
   "source": [
    "## Rank of Matrix :- No. of linearly independent columns\n",
    "\n",
    "np.linalg.matrix_rank(mat_1)"
   ]
  },
  {
   "cell_type": "code",
   "execution_count": 19,
   "metadata": {},
   "outputs": [
    {
     "data": {
      "text/plain": [
       "matrix([[-1.16836735,  0.35034014,  0.01020408],\n",
       "        [ 0.58163265, -0.14965986,  0.01020408],\n",
       "        [ 0.16836735, -0.0170068 , -0.01020408]])"
      ]
     },
     "execution_count": 19,
     "metadata": {},
     "output_type": "execute_result"
    }
   ],
   "source": [
    "## Inverse of a matrix only for those matrix whose determinant != 0 i.e non singular matrix.\n",
    "\n",
    "np.linalg.inv(mat_1)"
   ]
  },
  {
   "cell_type": "code",
   "execution_count": 20,
   "metadata": {},
   "outputs": [
    {
     "name": "stdout",
     "output_type": "stream",
     "text": [
      "Matrix A is :-\n",
      " [[ 2  1  2]\n",
      " [ 3  2  7]\n",
      " [ 6  4 -5]]\n",
      "\n",
      "Matrix B is :-\n",
      " [[ 2]\n",
      " [-1]\n",
      " [ 3]]\n"
     ]
    }
   ],
   "source": [
    "## Solution of linear equations i.e unique, infinite and no solution.\n",
    "## 2x + y+ 2z = 2\n",
    "## 3x + 2y + 7z = -1\n",
    "## 6x + 4y - 5z = 3\n",
    "## Equation will be AX = B\n",
    "## X = [x, y, z]\n",
    "## Solve 'AB' matrix and resultant matrix will be X \n",
    "\n",
    "A = np.matrix(\"2, 1, 2; 3, 2, 7; 6, 4, -5\")\n",
    "B = np.matrix(\"2, -1, 3\").T\n",
    "\n",
    "print(\"Matrix A is :-\\n\", A)\n",
    "print(\"\\nMatrix B is :-\\n\", B)"
   ]
  },
  {
   "cell_type": "code",
   "execution_count": 21,
   "metadata": {},
   "outputs": [
    {
     "name": "stdout",
     "output_type": "stream",
     "text": [
      "The resultant X matrix of dependent variables is:- \n",
      "  [[ 4.21052632]\n",
      " [-5.89473684]\n",
      " [-0.26315789]]\n"
     ]
    }
   ],
   "source": [
    "print('The resultant X matrix of dependent variables is:- \\n ', np.linalg.solve(A, B))"
   ]
  }
 ],
 "metadata": {
  "kernelspec": {
   "display_name": "Python 3",
   "language": "python",
   "name": "python3"
  },
  "language_info": {
   "codemirror_mode": {
    "name": "ipython",
    "version": 3
   },
   "file_extension": ".py",
   "mimetype": "text/x-python",
   "name": "python",
   "nbconvert_exporter": "python",
   "pygments_lexer": "ipython3",
   "version": "3.7.2"
  }
 },
 "nbformat": 4,
 "nbformat_minor": 2
}
